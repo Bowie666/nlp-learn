{
  "cells": [
    {
      "cell_type": "markdown",
      "metadata": {
        "id": "PuFikF3svh3o"
      },
      "source": [
        "## NER命名实体识别\n",
        "\n",
        "### hugging face 的中文数据集\n",
        "- qgyd2021/chinese_ner_sft\n",
        "  - 有很多子集，数据格式如下\n",
        "  - 纯美韩国女主播性感热舞变形金刚\n",
        "  - { \"start_idx\": [ 2, 11 ], \"end_idx\": [ 4, 15 ], \"entity_text\": [ \"韩国\", \"变形金刚\" ], \"entity_label\": [ \"MISC\", \"TELEVISION\" ], \"entity_names\": [ [ \"其它实体\" ], [ \"电视\", \"电视节目\", \"影视作品\", \"影视节目\" ] ] }\n",
        "- peoples_daily_ner\n",
        "  - 这个是我理解的那种数据格式\n",
        "  - [ \"沙\", \"特\", \"队\", \"教\", \"练\", \"佩\", \"雷\", \"拉\", \"：\", \"两\", \"支\", \"队\", \"都\", \"想\", \"胜\", \"，\", \"因\", \"此\", \"都\", \"作\", \"出\", \"了\", \"最\", \"大\", \"的\", \"努\", \"力\", \"。\" ]\n",
        "  - [ 3, 4, 4, 0, 0, 1, 2, 2, 0, 0, 0, 0, 0, 0, 0, 0, 0, 0, 0, 0, 0, 0, 0, 0, 0, 0, 0, 0 ]\n",
        "\n",
        "- 参考资料\n",
        "  - http://m.tnblog.net/hb/article/details/8266\n",
        "  - https://www.cnblogs.com/shengshengwang/p/17674861.html"
      ]
    },
    {
      "cell_type": "code",
      "execution_count": 57,
      "metadata": {
        "id": "OuYg_7pYvfyu"
      },
      "outputs": [],
      "source": [
        "import torch\n",
        "from torch.utils.data import DataLoader\n",
        "import matplotlib.pyplot as plt\n",
        "from datasets import load_dataset\n",
        "from transformers import BertTokenizer, BertForTokenClassification, AdamW\n",
        "from tqdm import tqdm\n",
        "from pprint import pprint\n",
        "import numpy as np"
      ]
    },
    {
      "cell_type": "code",
      "execution_count": 58,
      "metadata": {
        "id": "3NYicuQEgvcM"
      },
      "outputs": [],
      "source": [
        "device = torch.device(\"cuda\" if torch.cuda.is_available() else \"cpu\")"
      ]
    },
    {
      "cell_type": "code",
      "execution_count": 59,
      "metadata": {
        "id": "I8sKulcw0Otn"
      },
      "outputs": [],
      "source": [
        "dataset = load_dataset(\"peoples_daily_ner\")"
      ]
    },
    {
      "cell_type": "code",
      "execution_count": 60,
      "metadata": {
        "colab": {
          "base_uri": "https://localhost:8080/"
        },
        "id": "7pX2sP7_0Xhr",
        "outputId": "01f7bf2e-efd3-417c-f10a-1c7451067034"
      },
      "outputs": [
        {
          "data": {
            "text/plain": [
              "DatasetDict({\n",
              "    train: Dataset({\n",
              "        features: ['id', 'tokens', 'ner_tags'],\n",
              "        num_rows: 20865\n",
              "    })\n",
              "    validation: Dataset({\n",
              "        features: ['id', 'tokens', 'ner_tags'],\n",
              "        num_rows: 2319\n",
              "    })\n",
              "    test: Dataset({\n",
              "        features: ['id', 'tokens', 'ner_tags'],\n",
              "        num_rows: 4637\n",
              "    })\n",
              "})"
            ]
          },
          "execution_count": 60,
          "metadata": {},
          "output_type": "execute_result"
        }
      ],
      "source": [
        "dataset"
      ]
    },
    {
      "cell_type": "code",
      "execution_count": 61,
      "metadata": {
        "colab": {
          "base_uri": "https://localhost:8080/"
        },
        "id": "AxXa00Sx1aUN",
        "outputId": "135799fc-a53c-41e1-82dc-3f461ff07ccf"
      },
      "outputs": [
        {
          "data": {
            "text/plain": [
              "Dataset({\n",
              "    features: ['id', 'tokens', 'ner_tags'],\n",
              "    num_rows: 20865\n",
              "})"
            ]
          },
          "execution_count": 61,
          "metadata": {},
          "output_type": "execute_result"
        }
      ],
      "source": [
        "dataset['train']"
      ]
    },
    {
      "cell_type": "code",
      "execution_count": 62,
      "metadata": {
        "id": "YiekL-kf3EQO"
      },
      "outputs": [],
      "source": [
        "# 初始化BERT tokenizer和模型\n",
        "tokenizer = BertTokenizer.from_pretrained(\"bert-base-chinese\")"
      ]
    },
    {
      "cell_type": "markdown",
      "metadata": {
        "id": "W3KP4_OEfyqr"
      },
      "source": [
        "##### 测试tokenizer"
      ]
    },
    {
      "cell_type": "code",
      "execution_count": 8,
      "metadata": {
        "colab": {
          "base_uri": "https://localhost:8080/"
        },
        "id": "IiTd8RoPfyMG",
        "outputId": "adf2bdc4-baac-414f-e029-900bbd55f4e4"
      },
      "outputs": [
        {
          "name": "stdout",
          "output_type": "stream",
          "text": [
            "[CLS] 海 钓 比 赛 地 点 在 厦 门 与 金 门 之 间 的 海 域 。 [SEP]\n",
            "[CLS] 这 座 依 山 傍 水 的 博 物 馆 由 国 内 一 流 的 设 计 [SEP]\n",
            "input_ids tensor([[ 101, 3862, 7157, 3683, 6612, 1765, 4157, 1762, 1336, 7305,  680, 7032,\n",
            "         7305,  722, 7313, 4638, 3862, 1818,  511,  102],\n",
            "        [ 101, 6821, 2429,  898, 2255,  988, 3717, 4638, 1300, 4289, 7667, 4507,\n",
            "         1744, 1079,  671, 3837, 4638, 6392, 6369,  102]])\n",
            "token_type_ids tensor([[0, 0, 0, 0, 0, 0, 0, 0, 0, 0, 0, 0, 0, 0, 0, 0, 0, 0, 0, 0],\n",
            "        [0, 0, 0, 0, 0, 0, 0, 0, 0, 0, 0, 0, 0, 0, 0, 0, 0, 0, 0, 0]])\n",
            "attention_mask tensor([[1, 1, 1, 1, 1, 1, 1, 1, 1, 1, 1, 1, 1, 1, 1, 1, 1, 1, 1, 1],\n",
            "        [1, 1, 1, 1, 1, 1, 1, 1, 1, 1, 1, 1, 1, 1, 1, 1, 1, 1, 1, 1]])\n"
          ]
        }
      ],
      "source": [
        "# 编码测试\n",
        "out = tokenizer.batch_encode_plus(\n",
        "    [[\n",
        "        '海', '钓', '比', '赛', '地', '点', '在', '厦', '门', '与', '金', '门', '之', '间',\n",
        "        '的', '海', '域', '。'\n",
        "    ],\n",
        "     [\n",
        "         '这', '座', '依', '山', '傍', '水', '的', '博', '物', '馆', '由', '国', '内', '一',\n",
        "         '流', '的', '设', '计', '师', '主', '持', '设', '计', '。'\n",
        "     ]],\n",
        "    truncation=True,\n",
        "    padding=True,\n",
        "    return_tensors='pt',\n",
        "    max_length=20,\n",
        "    is_split_into_words=True)\n",
        "#还原编码为句子\n",
        "print(tokenizer.decode(out['input_ids'][0]))\n",
        "print(tokenizer.decode(out['input_ids'][1]))\n",
        "for k, v in out.items():\n",
        "    print(k, v)"
      ]
    },
    {
      "cell_type": "code",
      "execution_count": 9,
      "metadata": {
        "colab": {
          "base_uri": "https://localhost:8080/"
        },
        "id": "OaZX5zq38DgQ",
        "outputId": "e6749dc9-88f6-4e64-93f3-9074d54c692b"
      },
      "outputs": [
        {
          "data": {
            "text/plain": [
              "ClassLabel(names=['O', 'B-PER', 'I-PER', 'B-ORG', 'I-ORG', 'B-LOC', 'I-LOC'], id=None)"
            ]
          },
          "execution_count": 9,
          "metadata": {},
          "output_type": "execute_result"
        }
      ],
      "source": [
        "dataset[\"train\"].features[\"ner_tags\"].feature"
      ]
    },
    {
      "cell_type": "code",
      "execution_count": 10,
      "metadata": {
        "colab": {
          "base_uri": "https://localhost:8080/"
        },
        "id": "de5cfvO-Ab2e",
        "outputId": "3e9a3c80-868d-4b0b-9d42-c9ae20ac0c6b"
      },
      "outputs": [
        {
          "data": {
            "text/plain": [
              "7"
            ]
          },
          "execution_count": 10,
          "metadata": {},
          "output_type": "execute_result"
        }
      ],
      "source": [
        "len(dataset[\"train\"].features[\"ner_tags\"].feature.names)"
      ]
    },
    {
      "cell_type": "code",
      "execution_count": 11,
      "metadata": {
        "id": "l6IkFdWw1ZzC"
      },
      "outputs": [],
      "source": [
        "id2label = {0: 'O', 1: 'B-PER', 2: 'I-PER', 3: 'B-ORG', 4: 'I-ORG', 5: 'B-LOC', 6: 'I-LOC'}\n",
        "label2id = {'O': 0, 'B-PER': 1, 'I-PER': 2, 'B-ORG': 3, 'I-ORG': 4, 'B-LOC': 5, 'I-LOC': 6}\n",
        "# label2id = {v:k for k, v in id2label.items()}\n",
        "# label2id"
      ]
    },
    {
      "cell_type": "code",
      "execution_count": 12,
      "metadata": {
        "id": "qnRdnMNYgo7A"
      },
      "outputs": [],
      "source": [
        "def collate_fn_orgin(data):\n",
        "    tokens = [i[0] for i in data]\n",
        "    labels = [i[1] for i in data]\n",
        "    #编码\n",
        "    inputs = tokenizer.batch_encode_plus(tokens,\n",
        "                                         truncation=True,\n",
        "                                         padding=True,\n",
        "                                         return_tensors='pt',\n",
        "                                         max_length=512,\n",
        "                                         is_split_into_words=True)\n",
        "    #求一批数据中最长的句子长度\n",
        "    lens = inputs['input_ids'].shape[1]\n",
        "    #在labels的头尾补充7，把所有的labels补充成统一的长度\n",
        "    for i in range(len(labels)):\n",
        "        labels[i] = [7] + labels[i]\n",
        "        labels[i] += [7] * lens\n",
        "        labels[i] = labels[i][:lens]\n",
        "    #把编码结果移动到计算设备\n",
        "    for k, v in inputs.items():\n",
        "        inputs[k] = v.to(device)\n",
        "    #把统一长度的labels组装成矩阵，并移动到计算设备\n",
        "    labels = torch.LongTensor(labels).to(device)\n",
        "    return inputs, labels"
      ]
    },
    {
      "cell_type": "code",
      "execution_count": 13,
      "metadata": {
        "colab": {
          "base_uri": "https://localhost:8080/"
        },
        "id": "3gKBUlz-hQzB",
        "outputId": "57f149a8-453b-4f04-d934-acbf785e1fda"
      },
      "outputs": [
        {
          "name": "stdout",
          "output_type": "stream",
          "text": [
            "input_ids torch.Size([2, 37]) tensor([[ 101, 3862, 7157, 3683, 6612, 1765, 4157, 1762, 1336, 7305,  680, 7032,\n",
            "         7305,  722, 7313, 4638, 3862, 1818,  511,  102,    0,    0,    0,    0,\n",
            "            0,    0,    0,    0,    0,    0,    0,    0,    0,    0,    0,    0,\n",
            "            0],\n",
            "        [ 101, 6821, 2429,  898, 2255,  988, 3717, 4638, 1300, 4289, 7667, 4507,\n",
            "         1744, 1079,  671, 3837, 4638, 6392, 6369, 2360,  712, 2898, 6392, 6369,\n",
            "         8024, 3146,  702, 2456, 5029, 5408, 5125, 5401, 5445, 2612, 2131,  511,\n",
            "          102]], device='cuda:0')\n",
            "token_type_ids torch.Size([2, 37]) tensor([[0, 0, 0, 0, 0, 0, 0, 0, 0, 0, 0, 0, 0, 0, 0, 0, 0, 0, 0, 0, 0, 0, 0, 0,\n",
            "         0, 0, 0, 0, 0, 0, 0, 0, 0, 0, 0, 0, 0],\n",
            "        [0, 0, 0, 0, 0, 0, 0, 0, 0, 0, 0, 0, 0, 0, 0, 0, 0, 0, 0, 0, 0, 0, 0, 0,\n",
            "         0, 0, 0, 0, 0, 0, 0, 0, 0, 0, 0, 0, 0]], device='cuda:0')\n",
            "attention_mask torch.Size([2, 37]) tensor([[1, 1, 1, 1, 1, 1, 1, 1, 1, 1, 1, 1, 1, 1, 1, 1, 1, 1, 1, 1, 0, 0, 0, 0,\n",
            "         0, 0, 0, 0, 0, 0, 0, 0, 0, 0, 0, 0, 0],\n",
            "        [1, 1, 1, 1, 1, 1, 1, 1, 1, 1, 1, 1, 1, 1, 1, 1, 1, 1, 1, 1, 1, 1, 1, 1,\n",
            "         1, 1, 1, 1, 1, 1, 1, 1, 1, 1, 1, 1, 1]], device='cuda:0')\n",
            "labels torch.Size([2, 37]) tensor([[7, 0, 0, 0, 0, 0, 0, 0, 5, 6, 0, 5, 6, 0, 0, 0, 0, 0, 0, 7, 7, 7, 7, 7,\n",
            "         7, 7, 7, 7, 7, 7, 7, 7, 7, 7, 7, 7, 7],\n",
            "        [7, 0, 0, 0, 0, 0, 0, 0, 0, 0, 0, 0, 0, 0, 0, 0, 0, 0, 0, 0, 0, 0, 0, 0,\n",
            "         0, 0, 0, 0, 0, 0, 0, 0, 0, 0, 0, 0, 7]], device='cuda:0')\n"
          ]
        }
      ],
      "source": [
        "data = [\n",
        "    ([\n",
        "        '海', '钓', '比', '赛', '地', '点', '在', '厦', '门', '与', '金', '门', '之', '间',\n",
        "        '的', '海', '域', '。'\n",
        "    ], [0, 0, 0, 0, 0, 0, 0, 5, 6, 0, 5, 6, 0, 0, 0, 0, 0, 0]),\n",
        "    ([\n",
        "        '这', '座', '依', '山', '傍', '水', '的', '博', '物', '馆', '由', '国', '内', '一',\n",
        "        '流', '的', '设', '计', '师', '主', '持', '设', '计', '，', '整', '个', '建', '筑',\n",
        "        '群', '精', '美', '而', '恢', '宏', '。'\n",
        "    ], [\n",
        "        0, 0, 0, 0, 0, 0, 0, 0, 0, 0, 0, 0, 0, 0, 0, 0, 0, 0, 0, 0, 0, 0, 0, 0,\n",
        "        0, 0, 0, 0, 0, 0, 0, 0, 0, 0, 0\n",
        "    ]),\n",
        "]\n",
        "#试算\n",
        "inputs, labels = collate_fn_orgin(data)\n",
        "for k, v in inputs.items():\n",
        "    print(k, v.shape, v)\n",
        "print('labels', labels.shape, labels)"
      ]
    },
    {
      "cell_type": "code",
      "execution_count": 88,
      "metadata": {
        "colab": {
          "base_uri": "https://localhost:8080/"
        },
        "id": "yyN_AjdfkDGf",
        "outputId": "23ac054c-e384-4530-8423-bf3f5a2ba423"
      },
      "outputs": [
        {
          "name": "stdout",
          "output_type": "stream",
          "text": [
            "{'id': ['5', '6', '7'], 'tokens': [['克', '马', '尔', '的', '女', '儿', '让', '娜', '今', '年', '读', '五', '年', '级', '，', '她', '所', '在', '的', '班', '上', '有', '3', '0', '多', '名', '同', '学', '，', '该', '班', '的', '“', '家', '委', '会', '”', '由', '1', '0', '名', '家', '长', '组', '成', '。'], ['参', '加', '步', '行', '的', '有', '男', '有', '女', '，', '有', '年', '轻', '人', '，', '也', '有', '中', '年', '人', '。'], ['沙', '特', '队', '教', '练', '佩', '雷', '拉', '：', '两', '支', '队', '都', '想', '胜', '，', '因', '此', '都', '作', '出', '了', '最', '大', '的', '努', '力', '。']], 'ner_tags': [[1, 2, 2, 0, 0, 0, 1, 2, 0, 0, 0, 0, 0, 0, 0, 0, 0, 0, 0, 0, 0, 0, 0, 0, 0, 0, 0, 0, 0, 0, 0, 0, 0, 3, 4, 4, 0, 0, 0, 0, 0, 0, 0, 0, 0, 0], [0, 0, 0, 0, 0, 0, 0, 0, 0, 0, 0, 0, 0, 0, 0, 0, 0, 0, 0, 0, 0], [3, 4, 4, 0, 0, 1, 2, 2, 0, 0, 0, 0, 0, 0, 0, 0, 0, 0, 0, 0, 0, 0, 0, 0, 0, 0, 0, 0]]}\n"
          ]
        }
      ],
      "source": [
        "print(dataset['train'][5:8])"
      ]
    },
    {
      "cell_type": "code",
      "execution_count": 65,
      "metadata": {
        "id": "9CErqPU1jVjB"
      },
      "outputs": [],
      "source": [
        "def collate_fn(data):\n",
        "    tokens, labels  = [], []\n",
        "    for sample in data:\n",
        "        if not sample['tokens']:\n",
        "            continue\n",
        "        tokens.append(sample['tokens'])\n",
        "        labels.append(sample['ner_tags'])\n",
        "\n",
        "    # tokens = data['tokens']\n",
        "    # labels = data['ner_tags']\n",
        "\n",
        "    #编码\n",
        "    inputs = tokenizer.batch_encode_plus(tokens,\n",
        "                                         truncation=True,\n",
        "                                         padding=True,\n",
        "                                         return_tensors='pt',\n",
        "                                         max_length=512,\n",
        "                                         is_split_into_words=True)\n",
        "    #求一批数据中最长的句子长度\n",
        "    lens = inputs['input_ids'].shape[1]\n",
        "    #在labels的头尾补充7，把所有的labels补充成统一的长度\n",
        "    for i in range(len(labels)):\n",
        "        labels[i] = [-100] + labels[i]\n",
        "        labels[i] += [-100] * lens\n",
        "        labels[i] = labels[i][:lens]\n",
        "    #把编码结果移动到计算设备\n",
        "    for k, v in inputs.items():\n",
        "        inputs[k] = v.to(device)\n",
        "    #把统一长度的labels组装成矩阵，并移动到计算设备\n",
        "    labels = torch.LongTensor(labels).to(device)\n",
        "    return inputs, labels"
      ]
    },
    {
      "cell_type": "code",
      "execution_count": 66,
      "metadata": {
        "id": "j3w_2YoIkQ7S"
      },
      "outputs": [],
      "source": [
        "x, y = collate_fn([\n",
        "    {'id': '3',\n",
        " 'tokens': [],\n",
        " 'ner_tags': [],\n",
        " 'sentence': '海钓比赛地点在厦门与金门之间的海域。'},\n",
        "    {'id': '0',\n",
        " 'tokens': ['海','钓','比','赛','地','点','在','厦','门','与','金','门','之','间','的','海','域','。'],\n",
        " 'ner_tags': [0, 0, 0, 0, 0, 0, 0, 5, 6, 0, 5, 6, 0, 0, 0, 0, 0, 0],\n",
        " 'sentence': '海钓比赛地点在厦门与金门之间的海域。'},\n",
        "    {'id': '1',\n",
        " 'tokens': ['海','钓','比','赛','地','点','在','厦','门','与','金','门',],\n",
        " 'ner_tags': [0, 0, 0, 0, 0, 0, 0, 5, 6, 0, 5, 6],\n",
        " 'sentence': '海钓比赛地点在厦门与金门'},\n",
        "    {'id': '58',\n",
        " 'tokens': ['如','果','世','界','油','价','今','后','几','年','内','仍','然','处','于','目','前','的','低','迷','状','态','，','挪','威','政','府','的','财','政','收','入','将','因','此','减','少','至','少','2','5','0','亿','挪','威','克',\n",
        "  '朗','。','如','果','世','界','油','价','今','后','几','年','内','仍','然','处','于','目','前','的','低','迷','状','态','，','挪','威','政','府','的','财','政','收','入','将','因','此','减','少','至','少','2','5','0','亿','挪','威','克',\n",
        "  '朗','。','如','果','世','界','油','价','今','后','几','年','内','仍','然','处','于','目','前','的','低','迷','状','态','，','挪','威','政','府','的','财','政','收','入','将','因','此','减','少','至','少','2','5','0','亿','挪','威','克',\n",
        "  '朗','。','如','果','世','界','油','价','今','后','几','年','内','仍','然','处','于','目','前','的','低','迷','状','态','，','挪','威','政','府','的','财','政','收','入','将','因','此','减','少','至','少','2','5','0','亿','挪','威','克',\n",
        "  '朗','。','如','果','世','界','油','价','今','后','几','年','内','仍','然','处','于','目','前','的','低','迷','状','态','，','挪','威','政','府','的','财','政','收','入','将','因','此','减','少','至','少','2','5','0','亿','挪','威','克',\n",
        "  '朗','。','如','果','世','界','油','价','今','后','几','年','内','仍','然','处','于','目','前','的','低','迷','状','态','，','挪','威','政','府','的','财','政','收','入','将','因','此','减','少','至','少','2','5','0','亿','挪','威','克',\n",
        "  '朗','。','如','果','世','界','油','价','今','后','几','年','内','仍','然','处','于','目','前','的','低','迷','状','态','，','挪','威','政','府','的','财','政','收','入','将','因','此','减','少','至','少','2','5','0','亿','挪','威','克',\n",
        "  '朗','。','如','果','世','界','油','价','今','后','几','年','内','仍','然','处','于','目','前','的','低','迷','状','态','，','挪','威','政','府','的','财','政','收','入','将','因','此','减','少','至','少','2','5','0','亿','挪','威','克',\n",
        "  '朗','。','如','果','世','界','油','价','今','后','几','年','内','仍','然','处','于','目','前','的','低','迷','状','态','，','挪','威','政','府','的','财','政','收','入','将','因','此','减','少','至','少','2','5','0','亿','挪','威','克',\n",
        "  '朗','。','如','果','世','界','油','价','今','后','几','年','内','仍','然','处','于','目','前','的','低','迷','状','态','，','挪','威','政','府','的','财','政','收','入','将','因','此','减','少','至','少','2','5','0','亿','挪','威','克',\n",
        "  '朗','。','如','果','世','界','油','价','今','后','几','年','内','仍','然','处','于','目','前','的','低','迷','状','态','，','挪','威','政','府','的','财','政','收','入','将','因','此','减','少','至','少','2','5','0','亿','挪','威','克',\n",
        "  '朗','。','如','果','世','界','油','价','今','后','几','年','内','仍','然','处','于','目','前','的','低','迷','状','态','，','挪','威','政','府','的','财','政','收','入','将','因','此','减','少','至','少','2','5','0','亿','挪','威','克',\n",
        "  '朗','。','如','果','世','界','油','价','今','后','几','年','内','仍','然','处','于','目','前','的','低','迷','状','态','，','挪','威','政','府','的','财','政','收','入','将','因','此','减','少','至','少','2','5','0','亿','挪','威','克',\n",
        "  '朗','。','如','果','世','界','油','价','今','后','几','年','内','仍','然','处','于','目','前','的','低','迷','状','态','，','挪','威','政','府','的','财','政','收','入','将','因','此','减','少','至','少','2','5','0','亿','挪','威','克',\n",
        "  '朗','。'],\n",
        " 'ner_tags': [0,0,0,0,0,0,0,0,0,0,0,0,0,0,0,0,0,0,0,0,0,0,0,5,6,0,0,0,0,0,0,0,0,0,0,0,0,0,0,0,0,0,0,0,0,0,0,0,\n",
        "              0,0,0,0,0,0,0,0,0,0,0,0,0,0,0,0,0,0,0,0,0,0,0,5,6,0,0,0,0,0,0,0,0,0,0,0,0,0,0,0,0,0,0,0,0,0,0,0,\n",
        "              0,0,0,0,0,0,0,0,0,0,0,0,0,0,0,0,0,0,0,0,0,0,0,5,6,0,0,0,0,0,0,0,0,0,0,0,0,0,0,0,0,0,0,0,0,0,0,0,\n",
        "              0,0,0,0,0,0,0,0,0,0,0,0,0,0,0,0,0,0,0,0,0,0,0,5,6,0,0,0,0,0,0,0,0,0,0,0,0,0,0,0,0,0,0,0,0,0,0,0,\n",
        "              0,0,0,0,0,0,0,0,0,0,0,0,0,0,0,0,0,0,0,0,0,0,0,5,6,0,0,0,0,0,0,0,0,0,0,0,0,0,0,0,0,0,0,0,0,0,0,0,\n",
        "              0,0,0,0,0,0,0,0,0,0,0,0,0,0,0,0,0,0,0,0,0,0,0,5,6,0,0,0,0,0,0,0,0,0,0,0,0,0,0,0,0,0,0,0,0,0,0,0,\n",
        "              0,0,0,0,0,0,0,0,0,0,0,0,0,0,0,0,0,0,0,0,0,0,0,5,6,0,0,0,0,0,0,0,0,0,0,0,0,0,0,0,0,0,0,0,0,0,0,0,\n",
        "              0,0,0,0,0,0,0,0,0,0,0,0,0,0,0,0,0,0,0,0,0,0,0,5,6,0,0,0,0,0,0,0,0,0,0,0,0,0,0,0,0,0,0,0,0,0,0,0,\n",
        "              0,0,0,0,0,0,0,0,0,0,0,0,0,0,0,0,0,0,0,0,0,0,0,5,6,0,0,0,0,0,0,0,0,0,0,0,0,0,0,0,0,0,0,0,0,0,0,0,\n",
        "              0,0,0,0,0,0,0,0,0,0,0,0,0,0,0,0,0,0,0,0,0,0,0,5,6,0,0,0,0,0,0,0,0,0,0,0,0,0,0,0,0,0,0,0,0,0,0,0,\n",
        "              0,0,0,0,0,0,0,0,0,0,0,0,0,0,0,0,0,0,0,0,0,0,0,5,6,0,0,0,0,0,0,0,0,0,0,0,0,0,0,0,0,0,0,0,0,0,0,0,\n",
        "              0,0,0,0,0,0,0,0,0,0,0,0,0,0,0,0,0,0,0,0,0,0,0,5,6,0,0,0,0,0,0,0,0,0,0,0,0,0,0,0,0,0,0,0,0,0,0,0,\n",
        "              0,0,0,0,0,0,0,0,0,0,0,0,0,0,0,0,0,0,0,0,0,0,0,5,6,0,0,0,0,0,0,0,0,0,0,0,0,0,0,0,0,0,0,0,0,0,0,0,\n",
        "              0,0,0,0,0,0,0,0,0,0,0,0,0,0,0,0,0,0,0,0,0,0,0,5,6,0,0,0,0,0,0,0,0,0,0,0,0,0,0,0,0,0,0,0,0,0,0,0],\n",
        " 'sentence': '如果世界油价今后几年内仍然处于目前的低迷状态，挪威政府的财政收入将因此减少至少250亿挪威克朗。'}\n",
        "    ])\n"
      ]
    },
    {
      "cell_type": "code",
      "execution_count": 67,
      "metadata": {
        "colab": {
          "base_uri": "https://localhost:8080/"
        },
        "id": "MR5yw9COriC9",
        "outputId": "0072fac6-4a46-47d8-8bc5-663b4f9736cf"
      },
      "outputs": [
        {
          "name": "stdout",
          "output_type": "stream",
          "text": [
            "input_ids : torch.Size([3, 512]) : tensor([[ 101, 3862, 7157,  ...,    0,    0,    0],\n",
            "        [ 101, 3862, 7157,  ...,    0,    0,    0],\n",
            "        [ 101, 1963, 3362,  ..., 6568, 3124,  102]])\n",
            "token_type_ids : torch.Size([3, 512]) : tensor([[0, 0, 0,  ..., 0, 0, 0],\n",
            "        [0, 0, 0,  ..., 0, 0, 0],\n",
            "        [0, 0, 0,  ..., 0, 0, 0]])\n",
            "attention_mask : torch.Size([3, 512]) : tensor([[1, 1, 1,  ..., 0, 0, 0],\n",
            "        [1, 1, 1,  ..., 0, 0, 0],\n",
            "        [1, 1, 1,  ..., 1, 1, 1]])\n"
          ]
        }
      ],
      "source": [
        "for k,v in x.items():\n",
        "  print(k, ':', v.shape, ':', v)\n"
      ]
    },
    {
      "cell_type": "code",
      "execution_count": 34,
      "metadata": {
        "colab": {
          "base_uri": "https://localhost:8080/"
        },
        "id": "9JqFPL3vsjmX",
        "outputId": "409ee2a7-9314-4ca4-da1a-a89d81fea41b"
      },
      "outputs": [
        {
          "data": {
            "text/plain": [
              "(torch.Size([3, 512]),\n",
              " tensor([[-100,    0,    0,  ..., -100, -100, -100],\n",
              "         [-100,    0,    0,  ..., -100, -100, -100],\n",
              "         [-100,    0,    0,  ...,    0,    0,    0]]))"
            ]
          },
          "execution_count": 34,
          "metadata": {},
          "output_type": "execute_result"
        }
      ],
      "source": [
        "y.shape, y"
      ]
    },
    {
      "cell_type": "code",
      "execution_count": 14,
      "metadata": {
        "colab": {
          "base_uri": "https://localhost:8080/"
        },
        "id": "-47JxTBDlMni",
        "outputId": "9e28cf70-33a4-4565-f636-19d42f6f9397"
      },
      "outputs": [
        {
          "data": {
            "text/plain": [
              "50"
            ]
          },
          "execution_count": 14,
          "metadata": {},
          "output_type": "execute_result"
        }
      ],
      "source": [
        "len([-100,    0,    0,    0,    0,    0,    0,    0,    0,    0,    0,    0,\n",
        "             0,    0,    0,    0,    0,    0,    0,    0,    0,    0,    0,    0,\n",
        "             5,    6,    0,    0,    0,    0,    0,    0,    0,    0,    0,    0,\n",
        "             0,    0,    0,    0,    0,    0,    0,    0,    0,    0,    0,    0,\n",
        "             0, -100])"
      ]
    },
    {
      "cell_type": "code",
      "execution_count": 15,
      "metadata": {
        "id": "CGvGiq7QFuNt"
      },
      "outputs": [],
      "source": [
        "dataset_map = dataset"
      ]
    },
    {
      "cell_type": "code",
      "execution_count": 16,
      "metadata": {
        "colab": {
          "base_uri": "https://localhost:8080/"
        },
        "id": "2MfB-8cJlb3s",
        "outputId": "45742c79-5982-4fee-afaa-0d57453153af"
      },
      "outputs": [
        {
          "data": {
            "text/plain": [
              "DatasetDict({\n",
              "    train: Dataset({\n",
              "        features: ['id', 'tokens', 'ner_tags'],\n",
              "        num_rows: 20865\n",
              "    })\n",
              "    validation: Dataset({\n",
              "        features: ['id', 'tokens', 'ner_tags'],\n",
              "        num_rows: 2319\n",
              "    })\n",
              "    test: Dataset({\n",
              "        features: ['id', 'tokens', 'ner_tags'],\n",
              "        num_rows: 4637\n",
              "    })\n",
              "})"
            ]
          },
          "execution_count": 16,
          "metadata": {},
          "output_type": "execute_result"
        }
      ],
      "source": [
        "dataset_map"
      ]
    },
    {
      "cell_type": "code",
      "execution_count": 75,
      "metadata": {
        "id": "Fk5549LaFwEN"
      },
      "outputs": [],
      "source": [
        "train_dataloader = DataLoader(dataset_map['validation'], batch_size=4, shuffle=True, collate_fn=collate_fn, drop_last=True)"
      ]
    },
    {
      "cell_type": "code",
      "execution_count": 53,
      "metadata": {
        "id": "Cu2GIUYfwjbj"
      },
      "outputs": [],
      "source": [
        "i = 0\n",
        "for ind, (batch, y) in enumerate(train_dataloader):\n",
        "    try:\n",
        "      i+=1\n",
        "    except:\n",
        "      print(ind)"
      ]
    },
    {
      "cell_type": "code",
      "execution_count": 76,
      "metadata": {
        "id": "s0JDbs4kPRSU"
      },
      "outputs": [],
      "source": [
        "valid_dataloader = DataLoader(dataset_map['test'], batch_size=4, collate_fn=collate_fn, drop_last=True)"
      ]
    },
    {
      "cell_type": "code",
      "execution_count": 22,
      "metadata": {
        "colab": {
          "base_uri": "https://localhost:8080/"
        },
        "id": "Si5WcDTXltwK",
        "outputId": "76745de5-7118-46e8-838e-4ba88c821dca"
      },
      "outputs": [
        {
          "name": "stdout",
          "output_type": "stream",
          "text": [
            "[CLS] 一 旦 冲 洗 过 程 中 出 现 意 外 ， 使 消 费 者 能 从 保 险 公 司 得 到 相 应 的 补 偿 。 [SEP] [PAD] [PAD] [PAD] [PAD] [PAD] [PAD] [PAD] [PAD] [PAD] [PAD] [PAD] [PAD] [PAD] [PAD] [PAD] [PAD] [PAD] [PAD] [PAD] [PAD] [PAD] [PAD] [PAD] [PAD] [PAD] [PAD] [PAD] [PAD] [PAD] [PAD] [PAD] [PAD] [PAD] [PAD] [PAD] [PAD] [PAD] [PAD] [PAD] [PAD]\n",
            "tensor([-100,    0,    0,    0,    0,    0,    0,    0,    0,    0,    0,    0,\n",
            "           0,    0,    0,    0,    0,    0,    0,    3,    4,    4,    4,    0,\n",
            "           0,    0,    0,    0,    0,    0,    0, -100, -100, -100, -100, -100,\n",
            "        -100, -100, -100, -100, -100, -100, -100, -100, -100, -100, -100, -100,\n",
            "        -100, -100, -100, -100, -100, -100, -100, -100, -100, -100, -100, -100,\n",
            "        -100, -100, -100, -100, -100, -100, -100, -100, -100, -100, -100, -100],\n",
            "       device='cuda:0')\n",
            "input_ids torch.Size([4, 72])\n",
            "token_type_ids torch.Size([4, 72])\n",
            "attention_mask torch.Size([4, 72])\n"
          ]
        }
      ],
      "source": [
        "for i, (inputs, labels) in enumerate(train_dataloader):\n",
        "    break\n",
        "print(tokenizer.decode(inputs['input_ids'][0]))\n",
        "print(labels[0])\n",
        "for k, v in inputs.items():\n",
        "    print(k, v.shape)"
      ]
    },
    {
      "cell_type": "code",
      "execution_count": 70,
      "metadata": {
        "colab": {
          "base_uri": "https://localhost:8080/",
          "height": 105,
          "referenced_widgets": [
            "16e96c3bb76b46be87a625998ff9076c",
            "6ab0df3ba53e4791990f95c1a2936130",
            "a718d0a1bb6b41be93dcc817472d3f43",
            "caf7af5a108b45298c0064c34450c7b2",
            "36ab9baa2d344ae68ff64a73662f77fb",
            "0801be1ae369464c9c4bb5707f077b09",
            "282e386056354a949485ee336c80f085",
            "fa0bce7220f64fe9b4c76ec10779f211",
            "17df221428e341359cc18f3a6fc53185",
            "80997242f67a4885a190611556d33053",
            "93810da730a74212b5478c2b143adbd7"
          ]
        },
        "id": "CF9sDB-O7-rZ",
        "outputId": "14aea98c-8a70-4b0c-b092-9edba803c997"
      },
      "outputs": [
        {
          "data": {
            "application/vnd.jupyter.widget-view+json": {
              "model_id": "16e96c3bb76b46be87a625998ff9076c",
              "version_major": 2,
              "version_minor": 0
            },
            "text/plain": [
              "model.safetensors:   0%|          | 0.00/412M [00:00<?, ?B/s]"
            ]
          },
          "metadata": {},
          "output_type": "display_data"
        },
        {
          "name": "stderr",
          "output_type": "stream",
          "text": [
            "Some weights of BertForTokenClassification were not initialized from the model checkpoint at bert-base-chinese and are newly initialized: ['classifier.bias', 'classifier.weight']\n",
            "You should probably TRAIN this model on a down-stream task to be able to use it for predictions and inference.\n"
          ]
        }
      ],
      "source": [
        "model = BertForTokenClassification.from_pretrained(\"bert-base-chinese\", num_labels=7)"
      ]
    },
    {
      "cell_type": "code",
      "execution_count": 71,
      "metadata": {
        "colab": {
          "base_uri": "https://localhost:8080/"
        },
        "id": "JST3gNPIdeMd",
        "outputId": "8d93abda-3209-4a2f-ec2e-863ca5ad7e0d"
      },
      "outputs": [
        {
          "data": {
            "text/plain": [
              "BertForTokenClassification(\n",
              "  (bert): BertModel(\n",
              "    (embeddings): BertEmbeddings(\n",
              "      (word_embeddings): Embedding(21128, 768, padding_idx=0)\n",
              "      (position_embeddings): Embedding(512, 768)\n",
              "      (token_type_embeddings): Embedding(2, 768)\n",
              "      (LayerNorm): LayerNorm((768,), eps=1e-12, elementwise_affine=True)\n",
              "      (dropout): Dropout(p=0.1, inplace=False)\n",
              "    )\n",
              "    (encoder): BertEncoder(\n",
              "      (layer): ModuleList(\n",
              "        (0-11): 12 x BertLayer(\n",
              "          (attention): BertAttention(\n",
              "            (self): BertSelfAttention(\n",
              "              (query): Linear(in_features=768, out_features=768, bias=True)\n",
              "              (key): Linear(in_features=768, out_features=768, bias=True)\n",
              "              (value): Linear(in_features=768, out_features=768, bias=True)\n",
              "              (dropout): Dropout(p=0.1, inplace=False)\n",
              "            )\n",
              "            (output): BertSelfOutput(\n",
              "              (dense): Linear(in_features=768, out_features=768, bias=True)\n",
              "              (LayerNorm): LayerNorm((768,), eps=1e-12, elementwise_affine=True)\n",
              "              (dropout): Dropout(p=0.1, inplace=False)\n",
              "            )\n",
              "          )\n",
              "          (intermediate): BertIntermediate(\n",
              "            (dense): Linear(in_features=768, out_features=3072, bias=True)\n",
              "            (intermediate_act_fn): GELUActivation()\n",
              "          )\n",
              "          (output): BertOutput(\n",
              "            (dense): Linear(in_features=3072, out_features=768, bias=True)\n",
              "            (LayerNorm): LayerNorm((768,), eps=1e-12, elementwise_affine=True)\n",
              "            (dropout): Dropout(p=0.1, inplace=False)\n",
              "          )\n",
              "        )\n",
              "      )\n",
              "    )\n",
              "  )\n",
              "  (dropout): Dropout(p=0.1, inplace=False)\n",
              "  (classifier): Linear(in_features=768, out_features=7, bias=True)\n",
              ")"
            ]
          },
          "execution_count": 71,
          "metadata": {},
          "output_type": "execute_result"
        }
      ],
      "source": [
        "model.to(device)"
      ]
    },
    {
      "cell_type": "code",
      "execution_count": 72,
      "metadata": {
        "colab": {
          "base_uri": "https://localhost:8080/"
        },
        "id": "kvLyzXWt0HE2",
        "outputId": "63d37f89-86bf-440d-93e1-937b0fe6e6fb"
      },
      "outputs": [
        {
          "name": "stderr",
          "output_type": "stream",
          "text": [
            "/usr/local/lib/python3.10/dist-packages/transformers/optimization.py:429: FutureWarning: This implementation of AdamW is deprecated and will be removed in a future version. Use the PyTorch implementation torch.optim.AdamW instead, or set `no_deprecation_warning=True` to disable this warning\n",
            "  warnings.warn(\n"
          ]
        }
      ],
      "source": [
        "# 定义优化器和损失函数\n",
        "optimizer = AdamW(model.parameters(), lr=1e-5)\n",
        "loss_fn = torch.nn.CrossEntropyLoss()\n"
      ]
    },
    {
      "cell_type": "code",
      "execution_count": 77,
      "metadata": {
        "colab": {
          "base_uri": "https://localhost:8080/"
        },
        "id": "csjYeAGyT0GM",
        "outputId": "e4731fc8-1e64-47f0-96bb-369d19164152"
      },
      "outputs": [
        {
          "name": "stderr",
          "output_type": "stream",
          "text": [
            "Epoch 1 Train: 100%|██████████| 579/579 [36:24<00:00,  3.77s/it]\n",
            "Epoch 1 Eval: 100%|██████████| 1159/1159 [20:04<00:00,  1.04s/it]\n"
          ]
        }
      ],
      "source": [
        "# 训练模型\n",
        "train_losses = []\n",
        "eval_losses = []\n",
        "for epoch in range(1):\n",
        "    # 训练\n",
        "    model.train()\n",
        "    epoch_train_loss = 0\n",
        "    for batch, y in tqdm(train_dataloader, desc=f\"Epoch {epoch+1} Train\"):\n",
        "        inputs = batch\n",
        "        labels = y\n",
        "        outputs = model(**inputs)\n",
        "        loss = loss_fn(outputs.logits.view(-1, 7), labels.view(-1))\n",
        "        loss.backward()\n",
        "        optimizer.step()\n",
        "        optimizer.zero_grad()\n",
        "        epoch_train_loss += loss.item()\n",
        "    train_losses.append(epoch_train_loss / len(train_dataloader))\n",
        "\n",
        "    # 验证\n",
        "    model.eval()\n",
        "    epoch_eval_loss = 0\n",
        "    for batch, y in tqdm(valid_dataloader, desc=f\"Epoch {epoch+1} Eval\"):\n",
        "        inputs = batch\n",
        "        labels = y\n",
        "        with torch.no_grad():\n",
        "            outputs = model(**inputs)\n",
        "            loss = loss_fn(outputs.logits.view(-1, 7), labels.view(-1))\n",
        "            epoch_eval_loss += loss.item()\n",
        "    eval_losses.append(epoch_eval_loss / len(valid_dataloader))\n"
      ]
    },
    {
      "cell_type": "code",
      "execution_count": 79,
      "metadata": {
        "colab": {
          "base_uri": "https://localhost:8080/"
        },
        "id": "TZO2grMqIygM",
        "outputId": "66ab2025-c3d5-4f55-c7fb-93adadf5ee94"
      },
      "outputs": [
        {
          "data": {
            "text/plain": [
              "([0.04953076240918085], [0.09511156810561375])"
            ]
          },
          "execution_count": 79,
          "metadata": {},
          "output_type": "execute_result"
        }
      ],
      "source": [
        "eval_losses, train_losses"
      ]
    },
    {
      "cell_type": "code",
      "execution_count": 78,
      "metadata": {
        "colab": {
          "base_uri": "https://localhost:8080/",
          "height": 472
        },
        "id": "quPegYZ2xe8g",
        "outputId": "7ec08da0-91a8-4951-d93f-35ccd30872ab"
      },
      "outputs": [
        {
          "data": {
            "image/png": "[encoded data removed]",
            "text/plain": [
              "<Figure size 640x480 with 1 Axes>"
            ]
          },
          "metadata": {},
          "output_type": "display_data"
        }
      ],
      "source": [
        "# 绘制训练损失曲线\n",
        "plt.plot(train_losses, label='Train')\n",
        "plt.plot(eval_losses, label='Eval')\n",
        "plt.xlabel('Epochs')\n",
        "plt.ylabel('Loss')\n",
        "plt.title('Training and Evaluation Loss')\n",
        "plt.legend()\n",
        "plt.grid(True)\n",
        "plt.show()"
      ]
    },
    {
      "cell_type": "code",
      "execution_count": 80,
      "metadata": {
        "id": "twsuUC7bWr4B"
      },
      "outputs": [],
      "source": [
        "# 保存模型 保存的是文件 里面有config.json文件和model.safetensors模型文件\n",
        "model.save_pretrained(\"./peoples_daily_ner_model\")\n"
      ]
    },
    {
      "cell_type": "code",
      "execution_count": 81,
      "metadata": {
        "id": "wOO1TX3pPeDo"
      },
      "outputs": [],
      "source": [
        "# 推理模型\n",
        "# example_sentence = \"海钓比赛地点在厦门与金门\"\n",
        "example_sentence = \"北京是中国的首都。\"\n",
        "inputs = tokenizer(example_sentence, return_tensors=\"pt\").to(device)\n",
        "with torch.no_grad():\n",
        "    outputs = model(**inputs)\n",
        "    predictions = torch.argmax(outputs.logits, dim=-1).squeeze().cpu().numpy()\n",
        "\n",
        "# 部署模型\n",
        "# 你可以使用保存的模型加载并在其他地方使用，例如在Flask或FastAPI中。"
      ]
    },
    {
      "cell_type": "code",
      "execution_count": 82,
      "metadata": {
        "colab": {
          "base_uri": "https://localhost:8080/"
        },
        "id": "iucCuyHTXF3n",
        "outputId": "f14a6f26-7f47-456c-ca5c-8118e406c716"
      },
      "outputs": [
        {
          "data": {
            "text/plain": [
              "TokenClassifierOutput(loss=None, logits=tensor([[[ 5.5332, -2.0215, -2.3632, -1.7335, -1.1529, -0.1443, -0.3947],\n",
              "         [-2.0747, -1.8169, -2.6177,  0.3363, -2.5047,  5.4459, -0.6823],\n",
              "         [-1.2705, -3.0797, -0.7016, -3.0688,  0.7253,  0.7293,  6.1000],\n",
              "         [ 7.6070, -2.5106, -3.0227, -2.0992, -1.0515, -1.1190, -0.6119],\n",
              "         [-1.2399, -2.2512, -2.5366, -0.3096, -2.3144,  5.7405, -0.6278],\n",
              "         [ 0.0374, -2.7026, -1.2432, -3.1503,  0.2566, -0.7135,  6.1357],\n",
              "         [ 7.0126, -2.2660, -3.1678, -2.0898, -0.9910, -0.8260, -0.5479],\n",
              "         [ 6.3433, -2.6451, -3.1989, -1.9304, -1.3802, -0.9575, -0.1367],\n",
              "         [ 5.9450, -2.6924, -2.9546, -2.3872, -0.9686, -1.1456,  0.6077],\n",
              "         [ 7.0521, -2.3640, -3.1610, -1.4510, -1.6529, -0.7498, -0.9963],\n",
              "         [ 1.9753, -1.7750, -1.9326, -0.9397, -0.8321,  0.4471,  0.1944]]]), hidden_states=None, attentions=None)"
            ]
          },
          "execution_count": 82,
          "metadata": {},
          "output_type": "execute_result"
        }
      ],
      "source": [
        "outputs"
      ]
    },
    {
      "cell_type": "code",
      "execution_count": 83,
      "metadata": {
        "colab": {
          "base_uri": "https://localhost:8080/"
        },
        "id": "Cm6pNVCOXBP5",
        "outputId": "be804434-64d2-4483-b6ff-d42ca5690ce3"
      },
      "outputs": [
        {
          "data": {
            "text/plain": [
              "array([0, 5, 6, 0, 5, 6, 0, 0, 0, 0, 0])"
            ]
          },
          "execution_count": 83,
          "metadata": {},
          "output_type": "execute_result"
        }
      ],
      "source": [
        "predictions"
      ]
    },
    {
      "cell_type": "code",
      "execution_count": 84,
      "metadata": {
        "id": "pIV9SUAp3RWc"
      },
      "outputs": [],
      "source": [
        "# 推理模型\n",
        "sentence = '日本外务省3月18日发布消息称，日本首相岸田文雄将于19至21日访问印度和柬埔寨。'\n",
        "inputs = tokenizer(sentence, return_tensors=\"pt\").to(device)\n",
        "with torch.no_grad():\n",
        "    outputs = model(**inputs)\n",
        "    predictions = torch.argmax(outputs.logits, dim=-1).squeeze().cpu().numpy()\n",
        "\n",
        "# 部署模型\n",
        "# 你可以使用保存的模型加载并在其他地方使用，例如在Flask或FastAPI中。"
      ]
    },
    {
      "cell_type": "code",
      "execution_count": 85,
      "metadata": {
        "colab": {
          "base_uri": "https://localhost:8080/"
        },
        "id": "J8PQOG_D3iK7",
        "outputId": "b5d39fb6-809f-49d6-fae8-71f85c431586"
      },
      "outputs": [
        {
          "data": {
            "text/plain": [
              "array([0, 3, 4, 4, 4, 4, 0, 0, 0, 0, 0, 0, 0, 0, 0, 0, 5, 6, 0, 0, 1, 2,\n",
              "       2, 2, 0, 0, 0, 0, 0, 0, 0, 0, 5, 6, 0, 5, 6, 6, 0, 0])"
            ]
          },
          "execution_count": 85,
          "metadata": {},
          "output_type": "execute_result"
        }
      ],
      "source": [
        "predictions"
      ]
    },
    {
      "cell_type": "code",
      "execution_count": 91,
      "metadata": {
        "colab": {
          "base_uri": "https://localhost:8080/"
        },
        "id": "t7K2dQ13J2Nz",
        "outputId": "adee3962-30eb-477c-8df2-23c370172896"
      },
      "outputs": [
        {
          "data": {
            "text/plain": [
              "(40,\n",
              " 41,\n",
              " ['日',\n",
              "  '本',\n",
              "  '外',\n",
              "  '务',\n",
              "  '省',\n",
              "  '3',\n",
              "  '月',\n",
              "  '1',\n",
              "  '8',\n",
              "  '日',\n",
              "  '发',\n",
              "  '布',\n",
              "  '消',\n",
              "  '息',\n",
              "  '称',\n",
              "  '，',\n",
              "  '日',\n",
              "  '本',\n",
              "  '首',\n",
              "  '相',\n",
              "  '岸',\n",
              "  '田',\n",
              "  '文',\n",
              "  '雄',\n",
              "  '将',\n",
              "  '于',\n",
              "  '1',\n",
              "  '9',\n",
              "  '至',\n",
              "  '2',\n",
              "  '1',\n",
              "  '日',\n",
              "  '访',\n",
              "  '问',\n",
              "  '印',\n",
              "  '度',\n",
              "  '和',\n",
              "  '柬',\n",
              "  '埔',\n",
              "  '寨',\n",
              "  '。'])"
            ]
          },
          "execution_count": 91,
          "metadata": {},
          "output_type": "execute_result"
        }
      ],
      "source": [
        "len(predictions), len(list(sentence)), list(sentence)"
      ]
    },
    {
      "cell_type": "code",
      "execution_count": 92,
      "metadata": {
        "colab": {
          "base_uri": "https://localhost:8080/"
        },
        "id": "SVRR2pF45slO",
        "outputId": "fe77aa3e-ea51-407d-e08c-a347eef343a1"
      },
      "outputs": [
        {
          "name": "stdout",
          "output_type": "stream",
          "text": [
            "('日', 3)\n",
            "('本', 4)\n",
            "('外', 4)\n",
            "('务', 4)\n",
            "('省', 4)\n",
            "('3', 0)\n",
            "('月', 0)\n",
            "('1', 0)\n",
            "('8', 0)\n",
            "('日', 0)\n",
            "('发', 0)\n",
            "('布', 0)\n",
            "('消', 0)\n",
            "('息', 0)\n",
            "('称', 0)\n",
            "('，', 5)\n",
            "('日', 6)\n",
            "('本', 0)\n",
            "('首', 0)\n",
            "('相', 1)\n",
            "('岸', 2)\n",
            "('田', 2)\n",
            "('文', 2)\n",
            "('雄', 0)\n",
            "('将', 0)\n",
            "('于', 0)\n",
            "('1', 0)\n",
            "('9', 0)\n",
            "('至', 0)\n",
            "('2', 0)\n",
            "('1', 0)\n",
            "('日', 5)\n",
            "('访', 6)\n",
            "('问', 0)\n",
            "('印', 5)\n",
            "('度', 6)\n",
            "('和', 6)\n",
            "('柬', 0)\n"
          ]
        }
      ],
      "source": [
        "for i in zip(list(sentence), predictions[1:-1]):\n",
        "    print(i)"
      ]
    },
    {
      "cell_type": "code",
      "execution_count": 98,
      "metadata": {
        "id": "VXPeYcMF6mDI"
      },
      "outputs": [],
      "source": [
        "# 推理模型\n",
        "sentence1 = '岸田文雄将于19日访问印度和柬埔寨。..'\n",
        "inputs = tokenizer(sentence1, return_tensors=\"pt\").to(device)\n",
        "with torch.no_grad():\n",
        "    outputs1 = model(**inputs)\n",
        "    predictions1 = torch.argmax(outputs1.logits, dim=-1).squeeze().cpu().numpy()\n",
        "\n",
        "# 部署模型\n",
        "# 你可以使用保存的模型加载并在其他地方使用，例如在Flask或FastAPI中。"
      ]
    },
    {
      "cell_type": "code",
      "execution_count": 97,
      "metadata": {
        "colab": {
          "base_uri": "https://localhost:8080/"
        },
        "id": "T_7ogpRM64kS",
        "outputId": "d4afcfda-3ba8-4c00-c817-88d9f688887a"
      },
      "outputs": [
        {
          "name": "stdout",
          "output_type": "stream",
          "text": [
            "('岸', 1)\n",
            "('田', 2)\n",
            "('文', 2)\n",
            "('雄', 2)\n",
            "('将', 0)\n",
            "('于', 0)\n",
            "('1', 0)\n",
            "('日', 0)\n",
            "('访', 0)\n",
            "('问', 0)\n",
            "('印', 5)\n",
            "('度', 6)\n",
            "('和', 0)\n",
            "('柬', 5)\n",
            "('埔', 6)\n",
            "('寨', 6)\n",
            "('。', 0)\n",
            "('.', 0)\n",
            "('.', 0)\n"
          ]
        }
      ],
      "source": [
        "for i in zip(list(sentence1), predictions1[1:-1]):\n",
        "    print(i)"
      ]
    },
    {
      "cell_type": "code",
      "execution_count": 99,
      "metadata": {
        "colab": {
          "base_uri": "https://localhost:8080/"
        },
        "id": "XIYws9khMYPX",
        "outputId": "c8ce14eb-810e-4f43-cbed-ae5a61201567"
      },
      "outputs": [
        {
          "name": "stdout",
          "output_type": "stream",
          "text": [
            "('岸', 1)\n",
            "('田', 2)\n",
            "('文', 2)\n",
            "('雄', 2)\n",
            "('将', 0)\n",
            "('于', 0)\n",
            "('1', 0)\n",
            "('9', 0)\n",
            "('日', 0)\n",
            "('访', 0)\n",
            "('问', 5)\n",
            "('印', 6)\n",
            "('度', 0)\n",
            "('和', 5)\n",
            "('柬', 6)\n",
            "('埔', 6)\n",
            "('寨', 0)\n",
            "('。', 0)\n",
            "('.', 0)\n"
          ]
        }
      ],
      "source": [
        "for i in zip(list(sentence1), predictions1[1:-1]):\n",
        "    print(i)"
      ]
    },
    {
      "cell_type": "code",
      "execution_count": 104,
      "metadata": {
        "colab": {
          "base_uri": "https://localhost:8080/"
        },
        "id": "tHEn4KDVMuhC",
        "outputId": "0735522c-d7e6-4d4a-848a-57b07387ad26"
      },
      "outputs": [
        {
          "data": {
            "text/plain": [
              "(str, '[CLS] 岸 田 文 雄 将 于 19 日 访 问 印 度 和 柬 埔 寨 。.. [SEP]')"
            ]
          },
          "execution_count": 104,
          "metadata": {},
          "output_type": "execute_result"
        }
      ],
      "source": [
        "# print(tokenizer.decode(out['input_ids'][0]))\n",
        "orgin_token = tokenizer.decode(inputs['input_ids'][0])\n",
        "type(orgin_token), orgin_token"
      ]
    },
    {
      "cell_type": "code",
      "execution_count": 105,
      "metadata": {
        "colab": {
          "base_uri": "https://localhost:8080/"
        },
        "id": "87umbFRvNQhl",
        "outputId": "7375fe69-a5bf-496c-a0d1-47a70574e1b8"
      },
      "outputs": [
        {
          "name": "stdout",
          "output_type": "stream",
          "text": [
            "('[CLS]', 0)\n",
            "('岸', 1)\n",
            "('田', 2)\n",
            "('文', 2)\n",
            "('雄', 2)\n",
            "('将', 0)\n",
            "('于', 0)\n",
            "('19', 0)\n",
            "('日', 0)\n",
            "('访', 0)\n",
            "('问', 0)\n",
            "('印', 5)\n",
            "('度', 6)\n",
            "('和', 0)\n",
            "('柬', 5)\n",
            "('埔', 6)\n",
            "('寨', 6)\n",
            "('。..', 0)\n",
            "('[SEP]', 0)\n"
          ]
        }
      ],
      "source": [
        "for j in zip(orgin_token.split(' '), predictions1):\n",
        "    print(j)"
      ]
    },
    {
      "cell_type": "code",
      "execution_count": null,
      "metadata": {
        "colab": {
          "base_uri": "https://localhost:8080/"
        },
        "id": "VvjPRQNY7n9f",
        "outputId": "0374ecb8-c6ad-45ce-9f83-3083171dde96"
      },
      "outputs": [
        {
          "data": {
            "text/plain": [
              "array([0, 1, 2, 2, 2, 0, 0, 0, 0, 0, 0, 0, 0, 0, 0, 5, 6, 0, 5, 6, 0])"
            ]
          },
          "execution_count": 45,
          "metadata": {},
          "output_type": "execute_result"
        }
      ],
      "source": [
        "predictions"
      ]
    },
    {
      "cell_type": "markdown",
      "metadata": {
        "id": "-HpIZ7UxYgvS"
      },
      "source": [
        "### 模型推理"
      ]
    },
    {
      "cell_type": "code",
      "execution_count": 56,
      "metadata": {
        "colab": {
          "base_uri": "https://localhost:8080/"
        },
        "id": "L2xcZazuOBBS",
        "outputId": "c8881e90-352d-4a4a-c047-ca1b0522c31d"
      },
      "outputs": [
        {
          "name": "stdout",
          "output_type": "stream",
          "text": [
            "Requirement already satisfied: datasets in /usr/local/lib/python3.10/dist-packages (2.18.0)\n",
            "Requirement already satisfied: filelock in /usr/local/lib/python3.10/dist-packages (from datasets) (3.13.4)\n",
            "Requirement already satisfied: numpy>=1.17 in /usr/local/lib/python3.10/dist-packages (from datasets) (1.25.2)\n",
            "Requirement already satisfied: pyarrow>=12.0.0 in /usr/local/lib/python3.10/dist-packages (from datasets) (14.0.2)\n",
            "Requirement already satisfied: pyarrow-hotfix in /usr/local/lib/python3.10/dist-packages (from datasets) (0.6)\n",
            "Requirement already satisfied: dill<0.3.9,>=0.3.0 in /usr/local/lib/python3.10/dist-packages (from datasets) (0.3.8)\n",
            "Requirement already satisfied: pandas in /usr/local/lib/python3.10/dist-packages (from datasets) (2.0.3)\n",
            "Requirement already satisfied: requests>=2.19.0 in /usr/local/lib/python3.10/dist-packages (from datasets) (2.31.0)\n",
            "Requirement already satisfied: tqdm>=4.62.1 in /usr/local/lib/python3.10/dist-packages (from datasets) (4.66.2)\n",
            "Requirement already satisfied: xxhash in /usr/local/lib/python3.10/dist-packages (from datasets) (3.4.1)\n",
            "Requirement already satisfied: multiprocess in /usr/local/lib/python3.10/dist-packages (from datasets) (0.70.16)\n",
            "Requirement already satisfied: fsspec[http]<=2024.2.0,>=2023.1.0 in /usr/local/lib/python3.10/dist-packages (from datasets) (2023.6.0)\n",
            "Requirement already satisfied: aiohttp in /usr/local/lib/python3.10/dist-packages (from datasets) (3.9.3)\n",
            "Requirement already satisfied: huggingface-hub>=0.19.4 in /usr/local/lib/python3.10/dist-packages (from datasets) (0.20.3)\n",
            "Requirement already satisfied: packaging in /usr/local/lib/python3.10/dist-packages (from datasets) (24.0)\n",
            "Requirement already satisfied: pyyaml>=5.1 in /usr/local/lib/python3.10/dist-packages (from datasets) (6.0.1)\n",
            "Requirement already satisfied: aiosignal>=1.1.2 in /usr/local/lib/python3.10/dist-packages (from aiohttp->datasets) (1.3.1)\n",
            "Requirement already satisfied: attrs>=17.3.0 in /usr/local/lib/python3.10/dist-packages (from aiohttp->datasets) (23.2.0)\n",
            "Requirement already satisfied: frozenlist>=1.1.1 in /usr/local/lib/python3.10/dist-packages (from aiohttp->datasets) (1.4.1)\n",
            "Requirement already satisfied: multidict<7.0,>=4.5 in /usr/local/lib/python3.10/dist-packages (from aiohttp->datasets) (6.0.5)\n",
            "Requirement already satisfied: yarl<2.0,>=1.0 in /usr/local/lib/python3.10/dist-packages (from aiohttp->datasets) (1.9.4)\n",
            "Requirement already satisfied: async-timeout<5.0,>=4.0 in /usr/local/lib/python3.10/dist-packages (from aiohttp->datasets) (4.0.3)\n",
            "Requirement already satisfied: typing-extensions>=3.7.4.3 in /usr/local/lib/python3.10/dist-packages (from huggingface-hub>=0.19.4->datasets) (4.11.0)\n",
            "Requirement already satisfied: charset-normalizer<4,>=2 in /usr/local/lib/python3.10/dist-packages (from requests>=2.19.0->datasets) (3.3.2)\n",
            "Requirement already satisfied: idna<4,>=2.5 in /usr/local/lib/python3.10/dist-packages (from requests>=2.19.0->datasets) (3.6)\n",
            "Requirement already satisfied: urllib3<3,>=1.21.1 in /usr/local/lib/python3.10/dist-packages (from requests>=2.19.0->datasets) (2.0.7)\n",
            "Requirement already satisfied: certifi>=2017.4.17 in /usr/local/lib/python3.10/dist-packages (from requests>=2.19.0->datasets) (2024.2.2)\n",
            "Requirement already satisfied: python-dateutil>=2.8.2 in /usr/local/lib/python3.10/dist-packages (from pandas->datasets) (2.8.2)\n",
            "Requirement already satisfied: pytz>=2020.1 in /usr/local/lib/python3.10/dist-packages (from pandas->datasets) (2023.4)\n",
            "Requirement already satisfied: tzdata>=2022.1 in /usr/local/lib/python3.10/dist-packages (from pandas->datasets) (2024.1)\n",
            "Requirement already satisfied: six>=1.5 in /usr/local/lib/python3.10/dist-packages (from python-dateutil>=2.8.2->pandas->datasets) (1.16.0)\n"
          ]
        }
      ],
      "source": [
        "!pip install datasets"
      ]
    },
    {
      "cell_type": "markdown",
      "metadata": {
        "id": "_4kHmfnRLlTI"
      },
      "source": [
        "### gpt代码\n"
      ]
    },
    {
      "cell_type": "code",
      "execution_count": null,
      "metadata": {
        "id": "E3JMH_doKXK3"
      },
      "outputs": [],
      "source": [
        "import torch\n",
        "from torch.utils.data import DataLoader\n",
        "import matplotlib.pyplot as plt\n",
        "from datasets import load_dataset\n",
        "from transformers import BertTokenizer, BertForTokenClassification, AdamW\n",
        "from tqdm import tqdm\n",
        "\n",
        "# 加载数据集\n",
        "dataset = load_dataset(\"peoples_daily_ner\")\n",
        "\n",
        "# 初始化BERT tokenizer和模型\n",
        "tokenizer = BertTokenizer.from_pretrained(\"bert-base-chinese\")\n",
        "model = BertForTokenClassification.from_pretrained(\"bert-base-chinese\", num_labels=len(dataset[\"train\"].features[\"ner_tags\"].feature))\n",
        "\n",
        "# 将数据集转换为适用于BERT的格式\n",
        "def tokenize_and_align_labels(example):\n",
        "    tokens = tokenizer.tokenize(example[\"tokens\"])\n",
        "    labels = example[\"ner_tags\"]\n",
        "    return {\"input_ids\": tokenizer.convert_tokens_to_ids(tokens),\n",
        "            \"attention_mask\": [1] * len(tokens),\n",
        "            \"labels\": labels}\n",
        "\n",
        "tokenized_datasets = dataset.map(tokenize_and_align_labels, batched=True)\n",
        "\n",
        "# 准备数据加载器\n",
        "train_dataloader = DataLoader(tokenized_datasets[\"train\"], batch_size=8, shuffle=True)\n",
        "eval_dataloader = DataLoader(tokenized_datasets[\"validation\"], batch_size=8)\n",
        "\n",
        "# 移动模型到GPU上\n",
        "device = torch.device(\"cuda\" if torch.cuda.is_available() else \"cpu\")\n",
        "model.to(device)\n",
        "\n",
        "# 定义优化器和损失函数\n",
        "optimizer = AdamW(model.parameters(), lr=5e-5)\n",
        "loss_fn = torch.nn.CrossEntropyLoss()\n",
        "\n",
        "# 训练模型\n",
        "train_losses = []\n",
        "eval_losses = []\n",
        "for epoch in range(3):\n",
        "    # 训练\n",
        "    model.train()\n",
        "    epoch_train_loss = 0\n",
        "    for batch in tqdm(train_dataloader, desc=f\"Epoch {epoch+1} Train\"):\n",
        "        inputs = {k: v.to(device) for k, v in batch.items() if k != \"labels\"}\n",
        "        labels = batch[\"labels\"].to(device)\n",
        "        outputs = model(**inputs)\n",
        "        loss = loss_fn(outputs.logits.view(-1, len(dataset[\"train\"].features[\"ner_tags\"].feature)), labels.view(-1))\n",
        "        loss.backward()\n",
        "        optimizer.step()\n",
        "        optimizer.zero_grad()\n",
        "        epoch_train_loss += loss.item()\n",
        "    train_losses.append(epoch_train_loss / len(train_dataloader))\n",
        "\n",
        "    # 验证\n",
        "    model.eval()\n",
        "    epoch_eval_loss = 0\n",
        "    for batch in tqdm(eval_dataloader, desc=f\"Epoch {epoch+1} Eval\"):\n",
        "        inputs = {k: v.to(device) for k, v in batch.items() if k != \"labels\"}\n",
        "        labels = batch[\"labels\"].to(device)\n",
        "        with torch.no_grad():\n",
        "            outputs = model(**inputs)\n",
        "            loss = loss_fn(outputs.logits.view(-1, len(dataset[\"train\"].features[\"ner_tags\"].feature)), labels.view(-1))\n",
        "            epoch_eval_loss += loss.item()\n",
        "    eval_losses.append(epoch_eval_loss / len(eval_dataloader))\n",
        "\n",
        "# 绘制训练损失曲线\n",
        "plt.plot(train_losses, label='Train')\n",
        "plt.plot(eval_losses, label='Eval')\n",
        "plt.xlabel('Epochs')\n",
        "plt.ylabel('Loss')\n",
        "plt.title('Training and Evaluation Loss')\n",
        "plt.legend()\n",
        "plt.grid(True)\n",
        "plt.show()\n",
        "\n",
        "# 保存模型\n",
        "model.save_pretrained(\"./peoples_daily_ner_model\")\n",
        "\n",
        "# 推理模型\n",
        "example_sentence = \"北京是中国的首都。\"\n",
        "inputs = tokenizer(example_sentence, return_tensors=\"pt\").to(device)\n",
        "with torch.no_grad():\n",
        "    outputs = model(**inputs)\n",
        "    predictions = torch.argmax(outputs.logits, dim=-1).squeeze().cpu().numpy()\n",
        "\n",
        "# 部署模型\n",
        "# 你可以使用保存的模型加载并在其他地方使用，例如在Flask或FastAPI中。\n"
      ]
    }
  ],
  "metadata": {
    "colab": {
      "authorship_tag": "ABX9TyMUDtHHz17M80SdsS+mOGtV",
      "provenance": []
    },
    "kernelspec": {
      "display_name": "Python 3",
      "name": "python3"
    },
    "language_info": {
      "name": "python"
    },
    "widgets": {
      "application/vnd.jupyter.widget-state+json": {
        "0801be1ae369464c9c4bb5707f077b09": {
          "model_module": "@jupyter-widgets/base",
          "model_module_version": "1.2.0",
          "model_name": "LayoutModel",
          "state": {
            "_model_module": "@jupyter-widgets/base",
            "_model_module_version": "1.2.0",
            "_model_name": "LayoutModel",
            "_view_count": null,
            "_view_module": "@jupyter-widgets/base",
            "_view_module_version": "1.2.0",
            "_view_name": "LayoutView",
            "align_content": null,
            "align_items": null,
            "align_self": null,
            "border": null,
            "bottom": null,
            "display": null,
            "flex": null,
            "flex_flow": null,
            "grid_area": null,
            "grid_auto_columns": null,
            "grid_auto_flow": null,
            "grid_auto_rows": null,
            "grid_column": null,
            "grid_gap": null,
            "grid_row": null,
            "grid_template_areas": null,
            "grid_template_columns": null,
            "grid_template_rows": null,
            "height": null,
            "justify_content": null,
            "justify_items": null,
            "left": null,
            "margin": null,
            "max_height": null,
            "max_width": null,
            "min_height": null,
            "min_width": null,
            "object_fit": null,
            "object_position": null,
            "order": null,
            "overflow": null,
            "overflow_x": null,
            "overflow_y": null,
            "padding": null,
            "right": null,
            "top": null,
            "visibility": null,
            "width": null
          }
        },
        "16e96c3bb76b46be87a625998ff9076c": {
          "model_module": "@jupyter-widgets/controls",
          "model_module_version": "1.5.0",
          "model_name": "HBoxModel",
          "state": {
            "_dom_classes": [],
            "_model_module": "@jupyter-widgets/controls",
            "_model_module_version": "1.5.0",
            "_model_name": "HBoxModel",
            "_view_count": null,
            "_view_module": "@jupyter-widgets/controls",
            "_view_module_version": "1.5.0",
            "_view_name": "HBoxView",
            "box_style": "",
            "children": [
              "IPY_MODEL_6ab0df3ba53e4791990f95c1a2936130",
              "IPY_MODEL_a718d0a1bb6b41be93dcc817472d3f43",
              "IPY_MODEL_caf7af5a108b45298c0064c34450c7b2"
            ],
            "layout": "IPY_MODEL_36ab9baa2d344ae68ff64a73662f77fb"
          }
        },
        "17df221428e341359cc18f3a6fc53185": {
          "model_module": "@jupyter-widgets/controls",
          "model_module_version": "1.5.0",
          "model_name": "ProgressStyleModel",
          "state": {
            "_model_module": "@jupyter-widgets/controls",
            "_model_module_version": "1.5.0",
            "_model_name": "ProgressStyleModel",
            "_view_count": null,
            "_view_module": "@jupyter-widgets/base",
            "_view_module_version": "1.2.0",
            "_view_name": "StyleView",
            "bar_color": null,
            "description_width": ""
          }
        },
        "282e386056354a949485ee336c80f085": {
          "model_module": "@jupyter-widgets/controls",
          "model_module_version": "1.5.0",
          "model_name": "DescriptionStyleModel",
          "state": {
            "_model_module": "@jupyter-widgets/controls",
            "_model_module_version": "1.5.0",
            "_model_name": "DescriptionStyleModel",
            "_view_count": null,
            "_view_module": "@jupyter-widgets/base",
            "_view_module_version": "1.2.0",
            "_view_name": "StyleView",
            "description_width": ""
          }
        },
        "36ab9baa2d344ae68ff64a73662f77fb": {
          "model_module": "@jupyter-widgets/base",
          "model_module_version": "1.2.0",
          "model_name": "LayoutModel",
          "state": {
            "_model_module": "@jupyter-widgets/base",
            "_model_module_version": "1.2.0",
            "_model_name": "LayoutModel",
            "_view_count": null,
            "_view_module": "@jupyter-widgets/base",
            "_view_module_version": "1.2.0",
            "_view_name": "LayoutView",
            "align_content": null,
            "align_items": null,
            "align_self": null,
            "border": null,
            "bottom": null,
            "display": null,
            "flex": null,
            "flex_flow": null,
            "grid_area": null,
            "grid_auto_columns": null,
            "grid_auto_flow": null,
            "grid_auto_rows": null,
            "grid_column": null,
            "grid_gap": null,
            "grid_row": null,
            "grid_template_areas": null,
            "grid_template_columns": null,
            "grid_template_rows": null,
            "height": null,
            "justify_content": null,
            "justify_items": null,
            "left": null,
            "margin": null,
            "max_height": null,
            "max_width": null,
            "min_height": null,
            "min_width": null,
            "object_fit": null,
            "object_position": null,
            "order": null,
            "overflow": null,
            "overflow_x": null,
            "overflow_y": null,
            "padding": null,
            "right": null,
            "top": null,
            "visibility": null,
            "width": null
          }
        },
        "6ab0df3ba53e4791990f95c1a2936130": {
          "model_module": "@jupyter-widgets/controls",
          "model_module_version": "1.5.0",
          "model_name": "HTMLModel",
          "state": {
            "_dom_classes": [],
            "_model_module": "@jupyter-widgets/controls",
            "_model_module_version": "1.5.0",
            "_model_name": "HTMLModel",
            "_view_count": null,
            "_view_module": "@jupyter-widgets/controls",
            "_view_module_version": "1.5.0",
            "_view_name": "HTMLView",
            "description": "",
            "description_tooltip": null,
            "layout": "IPY_MODEL_0801be1ae369464c9c4bb5707f077b09",
            "placeholder": "​",
            "style": "IPY_MODEL_282e386056354a949485ee336c80f085",
            "value": "model.safetensors: 100%"
          }
        },
        "80997242f67a4885a190611556d33053": {
          "model_module": "@jupyter-widgets/base",
          "model_module_version": "1.2.0",
          "model_name": "LayoutModel",
          "state": {
            "_model_module": "@jupyter-widgets/base",
            "_model_module_version": "1.2.0",
            "_model_name": "LayoutModel",
            "_view_count": null,
            "_view_module": "@jupyter-widgets/base",
            "_view_module_version": "1.2.0",
            "_view_name": "LayoutView",
            "align_content": null,
            "align_items": null,
            "align_self": null,
            "border": null,
            "bottom": null,
            "display": null,
            "flex": null,
            "flex_flow": null,
            "grid_area": null,
            "grid_auto_columns": null,
            "grid_auto_flow": null,
            "grid_auto_rows": null,
            "grid_column": null,
            "grid_gap": null,
            "grid_row": null,
            "grid_template_areas": null,
            "grid_template_columns": null,
            "grid_template_rows": null,
            "height": null,
            "justify_content": null,
            "justify_items": null,
            "left": null,
            "margin": null,
            "max_height": null,
            "max_width": null,
            "min_height": null,
            "min_width": null,
            "object_fit": null,
            "object_position": null,
            "order": null,
            "overflow": null,
            "overflow_x": null,
            "overflow_y": null,
            "padding": null,
            "right": null,
            "top": null,
            "visibility": null,
            "width": null
          }
        },
        "93810da730a74212b5478c2b143adbd7": {
          "model_module": "@jupyter-widgets/controls",
          "model_module_version": "1.5.0",
          "model_name": "DescriptionStyleModel",
          "state": {
            "_model_module": "@jupyter-widgets/controls",
            "_model_module_version": "1.5.0",
            "_model_name": "DescriptionStyleModel",
            "_view_count": null,
            "_view_module": "@jupyter-widgets/base",
            "_view_module_version": "1.2.0",
            "_view_name": "StyleView",
            "description_width": ""
          }
        },
        "a718d0a1bb6b41be93dcc817472d3f43": {
          "model_module": "@jupyter-widgets/controls",
          "model_module_version": "1.5.0",
          "model_name": "FloatProgressModel",
          "state": {
            "_dom_classes": [],
            "_model_module": "@jupyter-widgets/controls",
            "_model_module_version": "1.5.0",
            "_model_name": "FloatProgressModel",
            "_view_count": null,
            "_view_module": "@jupyter-widgets/controls",
            "_view_module_version": "1.5.0",
            "_view_name": "ProgressView",
            "bar_style": "success",
            "description": "",
            "description_tooltip": null,
            "layout": "IPY_MODEL_fa0bce7220f64fe9b4c76ec10779f211",
            "max": 411553788,
            "min": 0,
            "orientation": "horizontal",
            "style": "IPY_MODEL_17df221428e341359cc18f3a6fc53185",
            "value": 411553788
          }
        },
        "caf7af5a108b45298c0064c34450c7b2": {
          "model_module": "@jupyter-widgets/controls",
          "model_module_version": "1.5.0",
          "model_name": "HTMLModel",
          "state": {
            "_dom_classes": [],
            "_model_module": "@jupyter-widgets/controls",
            "_model_module_version": "1.5.0",
            "_model_name": "HTMLModel",
            "_view_count": null,
            "_view_module": "@jupyter-widgets/controls",
            "_view_module_version": "1.5.0",
            "_view_name": "HTMLView",
            "description": "",
            "description_tooltip": null,
            "layout": "IPY_MODEL_80997242f67a4885a190611556d33053",
            "placeholder": "​",
            "style": "IPY_MODEL_93810da730a74212b5478c2b143adbd7",
            "value": " 412M/412M [00:03&lt;00:00, 134MB/s]"
          }
        },
        "fa0bce7220f64fe9b4c76ec10779f211": {
          "model_module": "@jupyter-widgets/base",
          "model_module_version": "1.2.0",
          "model_name": "LayoutModel",
          "state": {
            "_model_module": "@jupyter-widgets/base",
            "_model_module_version": "1.2.0",
            "_model_name": "LayoutModel",
            "_view_count": null,
            "_view_module": "@jupyter-widgets/base",
            "_view_module_version": "1.2.0",
            "_view_name": "LayoutView",
            "align_content": null,
            "align_items": null,
            "align_self": null,
            "border": null,
            "bottom": null,
            "display": null,
            "flex": null,
            "flex_flow": null,
            "grid_area": null,
            "grid_auto_columns": null,
            "grid_auto_flow": null,
            "grid_auto_rows": null,
            "grid_column": null,
            "grid_gap": null,
            "grid_row": null,
            "grid_template_areas": null,
            "grid_template_columns": null,
            "grid_template_rows": null,
            "height": null,
            "justify_content": null,
            "justify_items": null,
            "left": null,
            "margin": null,
            "max_height": null,
            "max_width": null,
            "min_height": null,
            "min_width": null,
            "object_fit": null,
            "object_position": null,
            "order": null,
            "overflow": null,
            "overflow_x": null,
            "overflow_y": null,
            "padding": null,
            "right": null,
            "top": null,
            "visibility": null,
            "width": null
          }
        }
      }
    }
  },
  "nbformat": 4,
  "nbformat_minor": 0
}
